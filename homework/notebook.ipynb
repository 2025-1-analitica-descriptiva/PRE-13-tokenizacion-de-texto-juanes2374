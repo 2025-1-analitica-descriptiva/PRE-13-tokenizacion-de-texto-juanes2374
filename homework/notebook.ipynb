{
 "cells": [
  {
   "cell_type": "code",
   "execution_count": 7,
   "id": "ec48327e",
   "metadata": {},
   "outputs": [
    {
     "name": "stdout",
     "output_type": "stream",
     "text": [
      "✅ Archivos listos en files/output/\n"
     ]
    }
   ],
   "source": [
    "from pathlib import Path\n",
    "import shutil\n",
    "import sys\n",
    "\n",
    "# Establece la ruta manualmente\n",
    "ROOT = Path(\"C:/Users/juane/Documents/GitHub/2025-1-productos-de-datos/PRE-13-tokenizacion-de-texto-juanes2374\")\n",
    "INPUT_DIR  = ROOT / \"files\" / \"input\"\n",
    "OUTPUT_DIR = ROOT / \"files\" / \"output\"\n",
    "\n",
    "# Validación\n",
    "if not INPUT_DIR.exists():\n",
    "    sys.exit(f\"❌  No se encontró la carpeta: {INPUT_DIR}\")\n",
    "\n",
    "# Crear carpeta de salida si no existe\n",
    "OUTPUT_DIR.mkdir(parents=True, exist_ok=True)\n",
    "\n",
    "# Copiar archivos\n",
    "for fname in (\"file1.txt\", \"file2.txt\", \"file3.txt\"):\n",
    "    src = INPUT_DIR / fname\n",
    "    dst = OUTPUT_DIR / fname\n",
    "    if not src.exists():\n",
    "        print(f\"⚠️  {fname} no encontrado en input. Se crea archivo vacío.\")\n",
    "        dst.touch()\n",
    "    else:\n",
    "        shutil.copy2(src, dst)\n",
    "\n",
    "print(\"✅ Archivos listos en files/output/\")\n"
   ]
  }
 ],
 "metadata": {
  "kernelspec": {
   "display_name": ".venv",
   "language": "python",
   "name": "python3"
  },
  "language_info": {
   "codemirror_mode": {
    "name": "ipython",
    "version": 3
   },
   "file_extension": ".py",
   "mimetype": "text/x-python",
   "name": "python",
   "nbconvert_exporter": "python",
   "pygments_lexer": "ipython3",
   "version": "3.13.3"
  }
 },
 "nbformat": 4,
 "nbformat_minor": 5
}
